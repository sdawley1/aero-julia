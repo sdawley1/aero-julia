{
 "cells": [
  {
   "cell_type": "markdown",
   "id": "bcb1c01c",
   "metadata": {},
   "source": [
    "# Vortex Lift\n",
    "\n"
   ]
  }
 ],
 "metadata": {
  "kernelspec": {
   "display_name": "Julia 1.7.2",
   "language": "julia",
   "name": "julia-1.7"
  },
  "language_info": {
   "file_extension": ".jl",
   "mimetype": "application/julia",
   "name": "julia",
   "version": "1.7.2"
  }
 },
 "nbformat": 4,
 "nbformat_minor": 5
}
